{
 "cells": [
  {
   "cell_type": "raw",
   "metadata": {},
   "source": [
    "1.1\n",
    "Write a Python Program to implement your own myreduce() function which works exactly like\n",
    "Python's built-in function reduce()"
   ]
  },
  {
   "cell_type": "code",
   "execution_count": 1,
   "metadata": {},
   "outputs": [
    {
     "name": "stdout",
     "output_type": "stream",
     "text": [
      "Sum of all element in list  : 236\n",
      "Subtration of all element in list  : 164\n",
      "Product of all elements in list  : 540000\n",
      "Division of all elements in list  : 0.07407407407407407\n"
     ]
    }
   ],
   "source": [
    "def myreduce(F, list):\n",
    "         \n",
    "    for i in range(0, len(list)):\n",
    "        if i==0:\n",
    "            x=list[i]\n",
    "        else :\n",
    "            x = F(x, list[i])\n",
    "    \n",
    "    return x\n",
    "\n",
    "def add(x1, x2):\n",
    "    return x1 + x2\n",
    "\n",
    "def sub(x1, x2):\n",
    "    return(x1 - x2)\n",
    "\n",
    "def pdt(x1, x2):\n",
    "    return x1 * x2\n",
    "\n",
    "def div(x1, x2):\n",
    "    if x2==0:\n",
    "        c=0\n",
    "        print (\" list contain zero value, division by zero is not possible \")\n",
    "    else :\n",
    "        c=x1 / x2\n",
    "         \n",
    "    return(c)\n",
    "\n",
    "\n",
    "a = [200, 18, 3, 10, 5]\n",
    "\n",
    "print(\"Sum of all element in list  :\", myreduce(add, a))\n",
    "\n",
    "print(\"Subtration of all element in list  :\", myreduce(sub, a))\n",
    "\n",
    "print(\"Product of all elements in list  :\", myreduce(pdt, a))\n",
    "\n",
    "print(\"Division of all elements in list  :\", myreduce(div, a))\n"
   ]
  },
  {
   "cell_type": "raw",
   "metadata": {},
   "source": [
    "1.2 Write a Python program to implement your own myfilter() function which works exactly\n",
    "like Python's built-in function filter()"
   ]
  },
  {
   "cell_type": "code",
   "execution_count": 2,
   "metadata": {},
   "outputs": [
    {
     "name": "stdout",
     "output_type": "stream",
     "text": [
      "Even Number :  [10, 52, 40, 100]\n",
      "Odd_number :  [1, 5, 11, 31, 75, 91]\n"
     ]
    }
   ],
   "source": [
    "def my_filter(My_fun, List):\n",
    "    x = []\n",
    "    y = []\n",
    "    \n",
    "    for i in List:\n",
    "        x.append(My_fun(i))\n",
    "    \n",
    "    for i in range(0, len(x)):\n",
    "        \n",
    "        if x[i] == False:\n",
    "            continue \n",
    "        \n",
    "        else:\n",
    "            y.append(x[i])\n",
    "    \n",
    "    return y\n",
    "        \n",
    "def Even_number(i):\n",
    "    \n",
    "    if i%2==0:\n",
    "        return i\n",
    "    \n",
    "    else:\n",
    "        return False  \n",
    "\n",
    "def Odd_number(i):\n",
    "    if i%2 !=0:\n",
    "        return i\n",
    "    else:\n",
    "        return False\n",
    "\n",
    "print(\"Even Number : \", my_filter (Even_number,[1, 5, 10, 52, 11, 31, 40, 75, 91, 100]))\n",
    "print(\"Odd_number : \" , my_filter (Odd_number,[1, 5, 10, 52, 11, 31, 40, 75, 91, 100]))"
   ]
  },
  {
   "cell_type": "raw",
   "metadata": {},
   "source": [
    "2. Implement List comprehensions to produce the following lists.\n",
    "Write List comprehensions to produce the following Lists\n",
    "['A', 'C', 'A', 'D', 'G', 'I', ’L’, ‘ D’]\n",
    "['x', 'xx', 'xxx', 'xxxx', 'y', 'yy', 'yyy', 'yyyy', 'z', 'zz', 'zzz', 'zzzz']\n",
    "['x', 'y', 'z', 'xx', 'yy', 'zz', 'xx', 'yy', 'zz', 'xxxx', 'yyyy', 'zzzz']\n",
    "[[2], [3], [4], [3], [4], [5], [4], [5], [6]]\n",
    "[[2, 3, 4, 5], [3, 4, 5, 6], [4, 5, 6, 7], [5, 6, 7, 8]]\n",
    "[(1, 1), (2, 1), (3, 1), (1, 2), (2, 2), (3, 2), (1, 3), (2, 3), (3, 3)]\n"
   ]
  },
  {
   "cell_type": "code",
   "execution_count": 3,
   "metadata": {},
   "outputs": [
    {
     "name": "stdout",
     "output_type": "stream",
     "text": [
      "['A', 'C', 'A', 'D', 'G', 'I', 'L', 'D']\n",
      "['x', 'xx', 'xxx', 'xxxx', 'y', 'yy', 'yyy', 'yyyy', 'z', 'zz', 'zzz', 'zzzz']\n",
      "['x', 'y', 'z', 'xx', 'yy', 'zz', 'xxx', 'yyy', 'zzz', 'xxxx', 'yyyy', 'zzzz']\n",
      "[[2], [3], [4], [3], [4], [5], [4], [5], [6]]\n",
      "[[2, 3, 4, 5], [3, 4, 5, 6], [4, 5, 6, 7], [5, 6, 7, 8]]\n",
      "[(1, 1), (1, 2), (1, 3), (2, 1), (2, 2), (2, 3), (3, 1), (3, 2), (3, 3)]\n"
     ]
    }
   ],
   "source": [
    "word = \"ACADGILD\"\n",
    "list =[ alphabet for alphabet in word ]\n",
    "print (str(list))\n",
    "l = ['x','y','z']\n",
    "op = [ i*n for i in l for n in range(1,5)  ]\n",
    "print(str(op))\n",
    "l = ['x','y','z']\n",
    "op = [ i*n  for n in range(1,5) for i in l ]\n",
    "print(str(op))\n",
    "num= [2,3,4]\n",
    "ans = [ [n+i] for n in num for i in range(0,3)]\n",
    "print(str(ans))\n",
    "mat=[2,3,4,5]\n",
    "mat_ans=[[n+i for n in mat] for i in range(0,4)]\n",
    "print(str(mat_ans))\n",
    "points=[1,2,3]\n",
    "points_ans= [(x,y) for x in points for y in points]\n",
    "print(points_ans)"
   ]
  },
  {
   "cell_type": "raw",
   "metadata": {},
   "source": [
    "3. Implement a function longestWord() that takes a list of words and returns the longest one."
   ]
  },
  {
   "cell_type": "code",
   "execution_count": 4,
   "metadata": {},
   "outputs": [
    {
     "name": "stdout",
     "output_type": "stream",
     "text": [
      "malayalam\n"
     ]
    }
   ],
   "source": [
    "def lengthy_word(list):\n",
    "    word_len = []\n",
    "    for n in list:\n",
    "        word_len.append((len(n), n))\n",
    "    word_len.sort()\n",
    "    return word_len[-1][1]\n",
    "\n",
    "print(lengthy_word([\"english\", \"malayalam\", \"hindi\", \"Tamil\"]))"
   ]
  },
  {
   "cell_type": "markdown",
   "metadata": {},
   "source": [
    "# Task 2:"
   ]
  },
  {
   "cell_type": "raw",
   "metadata": {},
   "source": [
    "# 1.1 Write a Python Program(with class concepts) to find the area of the triangle using the below\n",
    "formula.\n",
    "\n",
    "area = (s*(s-a)*(s-b)*(s-c)) ** 0.5\n",
    "\n",
    "Function to take the length of the sides of triangle from user should be defined in the parent\n",
    "class and function to calculate the area should be defined in subclass."
   ]
  },
  {
   "cell_type": "code",
   "execution_count": 5,
   "metadata": {},
   "outputs": [],
   "source": [
    "class dim:\n",
    "    def __init__ (self):\n",
    "        a=int (input (\"enter a\"))\n",
    "        b=int (input (\"enter b\"))\n",
    "        c=int (input (\"enter c\")) \n",
    "    \n",
    "        self.a = a\n",
    "        self.b = b\n",
    "        self.c = c\n",
    "        \n",
    "        self.s=(self.a + self.b + self.c)/2\n",
    "        Area= self.s*(self.s-self.a)*(self.s-self.b)*(self.s-self.c) ** 0.5\n",
    "        self.area= Area\n",
    "    \n",
    "    def __str__ (self) :\n",
    "        return str(self.area) \n",
    "        \n",
    "        \n",
    "    \n",
    "    "
   ]
  },
  {
   "cell_type": "code",
   "execution_count": 6,
   "metadata": {},
   "outputs": [
    {
     "name": "stdout",
     "output_type": "stream",
     "text": [
      "enter a12\n",
      "enter b13\n",
      "enter c14\n",
      "2229.4132408410737\n"
     ]
    }
   ],
   "source": [
    "D = dim()\n",
    "print(D)"
   ]
  },
  {
   "cell_type": "raw",
   "metadata": {},
   "source": [
    "1.2 Write a function filter_long_words() that takes a list of words and an integer n and returns the list\n",
    "of words that are longer than n."
   ]
  },
  {
   "cell_type": "code",
   "execution_count": 7,
   "metadata": {},
   "outputs": [],
   "source": [
    "def filter_long_words(): \n",
    "    n=int(input(\"Enter the length of word : \"))\n",
    "    str=input(\"enter a list of words : \")\n",
    "    word_len = []  \n",
    "    txt = str.split(\" \")  \n",
    "    for x in txt:  \n",
    "        if len(x) > n:  \n",
    "            word_len.append(x)  \n",
    "    return word_len   \n"
   ]
  },
  {
   "cell_type": "code",
   "execution_count": 8,
   "metadata": {},
   "outputs": [
    {
     "name": "stdout",
     "output_type": "stream",
     "text": [
      "Enter the length of word : 2\n",
      "enter a list of words : my name is epson\n"
     ]
    },
    {
     "data": {
      "text/plain": [
       "['name', 'epson']"
      ]
     },
     "execution_count": 8,
     "metadata": {},
     "output_type": "execute_result"
    }
   ],
   "source": [
    "filter_long_words()\n"
   ]
  },
  {
   "cell_type": "raw",
   "metadata": {},
   "source": [
    "2.1 Write a Python program using function concept that maps list of words into a list of integers\n",
    "representing the lengths of the corresponding words​.\n",
    "Hint: ​If a list [ ab,cde,erty] is passed on to the python function output should come as [2,3,4]\n",
    "Here 2,3 and 4 are the lengths of the words in the list."
   ]
  },
  {
   "cell_type": "code",
   "execution_count": 9,
   "metadata": {},
   "outputs": [
    {
     "name": "stdout",
     "output_type": "stream",
     "text": [
      "List of words:['hi', 'hello', 'how', 'are', 'you']\n",
      "List of lengths of the corresponding words:[2, 5, 3, 3, 3]\n"
     ]
    }
   ],
   "source": [
    "Words = ['hi','hello','how','are','you']\n",
    " \n",
    "length = []\n",
    " \n",
    "for i in range(len(Words)):\n",
    "    length.append(len(Words[i]))\n",
    " \n",
    "print (\"List of words:\"+str(Words))    \n",
    "print (\"List of lengths of the corresponding words:\"+str(length))"
   ]
  },
  {
   "cell_type": "raw",
   "metadata": {},
   "source": [
    "2.2 Write a Python function which takes a character (i.e. a string of length 1) and returns True if it is\n",
    "a vowel, False otherwise."
   ]
  },
  {
   "cell_type": "code",
   "execution_count": 10,
   "metadata": {},
   "outputs": [],
   "source": [
    "def is_vowel():\n",
    "    char= input(\"character:\" )\n",
    "    all_vowels = 'aeiouAEIOU'\n",
    "    return char in all_vowels\n"
   ]
  },
  {
   "cell_type": "code",
   "execution_count": 11,
   "metadata": {},
   "outputs": [
    {
     "name": "stdout",
     "output_type": "stream",
     "text": [
      "character:e\n"
     ]
    },
    {
     "data": {
      "text/plain": [
       "True"
      ]
     },
     "execution_count": 11,
     "metadata": {},
     "output_type": "execute_result"
    }
   ],
   "source": [
    "is_vowel()\n"
   ]
  }
 ],
 "metadata": {
  "kernelspec": {
   "display_name": "Python 3",
   "language": "python",
   "name": "python3"
  },
  "language_info": {
   "codemirror_mode": {
    "name": "ipython",
    "version": 3
   },
   "file_extension": ".py",
   "mimetype": "text/x-python",
   "name": "python",
   "nbconvert_exporter": "python",
   "pygments_lexer": "ipython3",
   "version": "3.7.7"
  }
 },
 "nbformat": 4,
 "nbformat_minor": 4
}
